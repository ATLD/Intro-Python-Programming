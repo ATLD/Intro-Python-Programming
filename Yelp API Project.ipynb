{
 "cells": [
  {
   "cell_type": "markdown",
   "metadata": {},
   "source": [
    "# Yelp Project\n",
    "We will be mining Yelp data today to find zip codes that have the highest rated restaurants for different categories of food. We will be using the excellent Yelp Fusion API. An API (application programming interface) is a way for developers to directly interact with a server. APIs make it easy to request specific data. The Fusion API is the third generation of Yelp APIs. There is very good documentation.\n",
    "\n",
    "## Make a yelp account\n",
    "1. Please visit the [Yelp Fusion home page](https://www.yelp.com/developers/documentation/v3) and click the button for creating an app\n",
    "1. Its not important what you name your app. Just put anything down\n",
    "1. After app creation you will get both a client id and a client secret. Yelp uses this to keep track of how you use their API\n",
    "1. Copy and paste the client id and client secret into the strings below"
   ]
  },
  {
   "cell_type": "markdown",
   "metadata": {},
   "source": [
    "## Authenticate Yourself\n",
    "\n",
    "Before you can use the API, you must authenticate yourself using the standard OAuth2 protocol. You will make a post request with your id and secret and Yelp will respond with an access token. Once you have your access token you can start using the API."
   ]
  },
  {
   "cell_type": "code",
   "execution_count": 2,
   "metadata": {
    "collapsed": true
   },
   "outputs": [],
   "source": [
    "import pandas as pd\n",
    "import requests"
   ]
  },
  {
   "cell_type": "code",
   "execution_count": 3,
   "metadata": {},
   "outputs": [],
   "source": [
    "# replace CLIENT_ID and CLIENT_SECRET with your info\n",
    "app_id = 'CLIENT_ID'\n",
    "app_secret = 'CLIENT_SECRET'\n",
    "\n",
    "# don't edit these lines\n",
    "data = {'grant_type': 'client_credentials',\n",
    "        'client_id': app_id,\n",
    "        'client_secret': app_secret}\n",
    "token = requests.post('https://api.yelp.com/oauth2/token', data=data)\n",
    "access_token = token.json()['access_token']"
   ]
  },
  {
   "cell_type": "markdown",
   "metadata": {},
   "source": [
    "### Using the API\n",
    "The Yelp API is fairly easy to use. There are about six different **endpoints** that you can use. An endpoint is a URL that you make a web request to. Along with the endpoint you send a list of parameters that specify the results that you would like. This project will use the business search endpoint. It has a url of **https://api.yelp.com/v3/businesses/search**. \n",
    "\n",
    "There are about a dozen parameters you can use to specify an exact search. Check the [search documentation](https://www.yelp.com/developers/documentation/v3/business_search) for more detail.\n",
    "\n",
    "### Your first search\n",
    "The following API call to the business search endpoint, searches for the top 50 Italian restaurants in Houston sorted by rating with price of 1, 2 or 3. The highest price is 4. This makes a web request and will take a second or so."
   ]
  },
  {
   "cell_type": "code",
   "execution_count": 4,
   "metadata": {
    "collapsed": true
   },
   "outputs": [],
   "source": [
    "# don't edit these lines\n",
    "url = 'https://api.yelp.com/v3/businesses/search'\n",
    "headers = {'Authorization': f'bearer {access_token}'}\n",
    "\n",
    "# change these to make an API call\n",
    "params = {'location': 'Houston',\n",
    "          'categories':'italian',\n",
    "          'limit':'50',\n",
    "          'sort_by':'rating',\n",
    "          'price':'1,2,3'\n",
    "         }\n",
    "\n",
    "resp = requests.get(url=url, params=params, headers=headers)"
   ]
  },
  {
   "cell_type": "markdown",
   "metadata": {},
   "source": [
    "### Examine response\n",
    "Look back at the documentation and you will see a sample response. The response for most APIs is JSON data which results directly as a Python dictionary. JSON data is a hierarchical and nested similar to how your file system stores files and directories.\n",
    "\n",
    "### Convert response into Python dictionary\n",
    "The following command converts the response into a Python dictionary"
   ]
  },
  {
   "cell_type": "code",
   "execution_count": 5,
   "metadata": {
    "collapsed": true
   },
   "outputs": [],
   "source": [
    "# data is now a Python dictionary \n",
    "data = resp.json()"
   ]
  },
  {
   "cell_type": "markdown",
   "metadata": {},
   "source": [
    "### The data keys\n",
    "The entire response now resides **`data`** Python variable which is a dictionary. There are three keys in the dictionary."
   ]
  },
  {
   "cell_type": "code",
   "execution_count": 12,
   "metadata": {},
   "outputs": [
    {
     "data": {
      "text/plain": [
       "dict_keys(['businesses', 'total', 'region'])"
      ]
     },
     "execution_count": 12,
     "metadata": {},
     "output_type": "execute_result"
    }
   ],
   "source": [
    "data.keys()"
   ]
  },
  {
   "cell_type": "markdown",
   "metadata": {},
   "source": [
    "### The businesses key\n",
    "The main data resides in the businesses keys. The number of results are found with **total** and the lat/long of the search region is paired with **`region`**."
   ]
  },
  {
   "cell_type": "code",
   "execution_count": 13,
   "metadata": {},
   "outputs": [
    {
     "data": {
      "text/plain": [
       "40"
      ]
     },
     "execution_count": 13,
     "metadata": {},
     "output_type": "execute_result"
    }
   ],
   "source": [
    "data['total']"
   ]
  },
  {
   "cell_type": "code",
   "execution_count": 14,
   "metadata": {},
   "outputs": [
    {
     "data": {
      "text/plain": [
       "{'center': {'latitude': 29.763025675716687, 'longitude': -95.35995483398438}}"
      ]
     },
     "execution_count": 14,
     "metadata": {},
     "output_type": "execute_result"
    }
   ],
   "source": [
    "data['region']"
   ]
  },
  {
   "cell_type": "code",
   "execution_count": 18,
   "metadata": {},
   "outputs": [
    {
     "data": {
      "text/plain": [
       "[{'categories': [{'alias': 'italian', 'title': 'Italian'},\n",
       "   {'alias': 'pastashops', 'title': 'Pasta Shops'}],\n",
       "  'coordinates': {'latitude': 29.73824, 'longitude': -95.412087},\n",
       "  'display_phone': '(713) 528-1329',\n",
       "  'distance': 5737.959021541999,\n",
       "  'id': 'fabios-fresh-pasta-houston-3',\n",
       "  'image_url': 'https://s3-media1.fl.yelpcdn.com/bphoto/-8G1sHB7qROEcq7qC4bmng/o.jpg',\n",
       "  'is_closed': False,\n",
       "  'location': {'address1': '2129 W Alabama',\n",
       "   'address2': '',\n",
       "   'address3': '',\n",
       "   'city': 'Houston',\n",
       "   'country': 'US',\n",
       "   'display_address': ['2129 W Alabama', 'Houston, TX 77098'],\n",
       "   'state': 'TX',\n",
       "   'zip_code': '77098'},\n",
       "  'name': \"Fabio's Fresh Pasta\",\n",
       "  'phone': '+17135281329',\n",
       "  'price': '$$',\n",
       "  'rating': 5.0,\n",
       "  'review_count': 169,\n",
       "  'transactions': [],\n",
       "  'url': 'https://www.yelp.com/biz/fabios-fresh-pasta-houston-3?adjust_creative=GpXHZzZXfAL6u6beIC0cIA&utm_campaign=yelp_api_v3&utm_medium=api_v3_business_search&utm_source=GpXHZzZXfAL6u6beIC0cIA'},\n",
       " {'categories': [{'alias': 'desserts', 'title': 'Desserts'},\n",
       "   {'alias': 'gelato', 'title': 'Gelato'},\n",
       "   {'alias': 'italian', 'title': 'Italian'}],\n",
       "  'coordinates': {'latitude': 29.781417, 'longitude': -95.39639},\n",
       "  'display_phone': '(713) 597-6257',\n",
       "  'distance': 4068.335398218,\n",
       "  'id': 'gelazzi-houston',\n",
       "  'image_url': 'https://s3-media4.fl.yelpcdn.com/bphoto/vrT4UMUs0pR6TrlzrAkM6A/o.jpg',\n",
       "  'is_closed': False,\n",
       "  'location': {'address1': '3601 White Oak Dr',\n",
       "   'address2': '',\n",
       "   'address3': '',\n",
       "   'city': 'Houston',\n",
       "   'country': 'US',\n",
       "   'display_address': ['3601 White Oak Dr', 'Houston, TX 77007'],\n",
       "   'state': 'TX',\n",
       "   'zip_code': '77007'},\n",
       "  'name': 'Gelazzi',\n",
       "  'phone': '+17135976257',\n",
       "  'price': '$',\n",
       "  'rating': 4.5,\n",
       "  'review_count': 279,\n",
       "  'transactions': ['pickup'],\n",
       "  'url': 'https://www.yelp.com/biz/gelazzi-houston?adjust_creative=GpXHZzZXfAL6u6beIC0cIA&utm_campaign=yelp_api_v3&utm_medium=api_v3_business_search&utm_source=GpXHZzZXfAL6u6beIC0cIA'},\n",
       " {'categories': [{'alias': 'delis', 'title': 'Delis'},\n",
       "   {'alias': 'italian', 'title': 'Italian'},\n",
       "   {'alias': 'sandwiches', 'title': 'Sandwiches'}],\n",
       "  'coordinates': {'latitude': 29.73755, 'longitude': -95.33926},\n",
       "  'display_phone': '(713) 223-5186',\n",
       "  'distance': 3455.1348544439998,\n",
       "  'id': 'mandolas-deli-houston',\n",
       "  'image_url': 'https://s3-media2.fl.yelpcdn.com/bphoto/ZPLNAtBYjGy2Joni1poyvQ/o.jpg',\n",
       "  'is_closed': False,\n",
       "  'location': {'address1': '4105 Leeland St',\n",
       "   'address2': '',\n",
       "   'address3': '',\n",
       "   'city': 'Houston',\n",
       "   'country': 'US',\n",
       "   'display_address': ['4105 Leeland St', 'Houston, TX 77023'],\n",
       "   'state': 'TX',\n",
       "   'zip_code': '77023'},\n",
       "  'name': \"Mandola's Deli\",\n",
       "  'phone': '+17132235186',\n",
       "  'price': '$',\n",
       "  'rating': 4.5,\n",
       "  'review_count': 191,\n",
       "  'transactions': [],\n",
       "  'url': 'https://www.yelp.com/biz/mandolas-deli-houston?adjust_creative=GpXHZzZXfAL6u6beIC0cIA&utm_campaign=yelp_api_v3&utm_medium=api_v3_business_search&utm_source=GpXHZzZXfAL6u6beIC0cIA'}]"
      ]
     },
     "execution_count": 18,
     "metadata": {},
     "output_type": "execute_result"
    }
   ],
   "source": [
    "# Since data['businesses'] is a list, this will output the first 3 restaurants\n",
    "data['businesses'][:3]"
   ]
  },
  {
   "cell_type": "markdown",
   "metadata": {},
   "source": [
    "### A list of restaurants (dictionaries)\n",
    "By examining the output of the **`businesses`** key we see a list. This list is composed of dictionaries that contain the actual restaurant data."
   ]
  },
  {
   "cell_type": "code",
   "execution_count": 19,
   "metadata": {},
   "outputs": [
    {
     "data": {
      "text/plain": [
       "list"
      ]
     },
     "execution_count": 19,
     "metadata": {},
     "output_type": "execute_result"
    }
   ],
   "source": [
    "# the business key contains a list of restaurants (dictionaries)\n",
    "type(data['businesses'])"
   ]
  },
  {
   "cell_type": "code",
   "execution_count": 20,
   "metadata": {},
   "outputs": [
    {
     "data": {
      "text/plain": [
       "50"
      ]
     },
     "execution_count": 20,
     "metadata": {},
     "output_type": "execute_result"
    }
   ],
   "source": [
    "# we specified 50 results returned\n",
    "len(data['businesses'])"
   ]
  },
  {
   "cell_type": "markdown",
   "metadata": {},
   "source": [
    "### Look at the first restaurant"
   ]
  },
  {
   "cell_type": "code",
   "execution_count": 21,
   "metadata": {},
   "outputs": [
    {
     "data": {
      "text/plain": [
       "{'categories': [{'alias': 'italian', 'title': 'Italian'},\n",
       "  {'alias': 'pastashops', 'title': 'Pasta Shops'}],\n",
       " 'coordinates': {'latitude': 29.73824, 'longitude': -95.412087},\n",
       " 'display_phone': '(713) 528-1329',\n",
       " 'distance': 5737.959021541999,\n",
       " 'id': 'fabios-fresh-pasta-houston-3',\n",
       " 'image_url': 'https://s3-media1.fl.yelpcdn.com/bphoto/-8G1sHB7qROEcq7qC4bmng/o.jpg',\n",
       " 'is_closed': False,\n",
       " 'location': {'address1': '2129 W Alabama',\n",
       "  'address2': '',\n",
       "  'address3': '',\n",
       "  'city': 'Houston',\n",
       "  'country': 'US',\n",
       "  'display_address': ['2129 W Alabama', 'Houston, TX 77098'],\n",
       "  'state': 'TX',\n",
       "  'zip_code': '77098'},\n",
       " 'name': \"Fabio's Fresh Pasta\",\n",
       " 'phone': '+17135281329',\n",
       " 'price': '$$',\n",
       " 'rating': 5.0,\n",
       " 'review_count': 169,\n",
       " 'transactions': [],\n",
       " 'url': 'https://www.yelp.com/biz/fabios-fresh-pasta-houston-3?adjust_creative=GpXHZzZXfAL6u6beIC0cIA&utm_campaign=yelp_api_v3&utm_medium=api_v3_business_search&utm_source=GpXHZzZXfAL6u6beIC0cIA'}"
      ]
     },
     "execution_count": 21,
     "metadata": {},
     "output_type": "execute_result"
    }
   ],
   "source": [
    "# Lets go to this restaurant!\n",
    "data['businesses'][0]"
   ]
  },
  {
   "cell_type": "markdown",
   "metadata": {},
   "source": [
    "# Your turn\n",
    "It's now your turn to make a completely different request and examine the results. Use the Yelp documentation to make a different search."
   ]
  },
  {
   "cell_type": "code",
   "execution_count": 183,
   "metadata": {
    "collapsed": true
   },
   "outputs": [],
   "source": [
    "# don't edit these lines\n",
    "url = 'https://api.yelp.com/v3/businesses/search'\n",
    "headers = {'Authorization': f'bearer {access_token}'}\n",
    "\n",
    "# CHANGE THESE PARAMETERS to make the search\n",
    "params = {'location': 'Houston',\n",
    "          'categories':'italian',\n",
    "          'limit':'50',\n",
    "          'sort_by':'rating',\n",
    "          'price':'1,2,3'\n",
    "         }\n",
    "\n",
    "resp = requests.get(url=url, params=params, headers=headers)\n",
    "\n",
    "# data is now a Python dictionary that contains all the data\n",
    "data = resp.json()"
   ]
  },
  {
   "cell_type": "markdown",
   "metadata": {},
   "source": [
    "### Use the next few lines to examine the results"
   ]
  },
  {
   "cell_type": "code",
   "execution_count": null,
   "metadata": {
    "collapsed": true
   },
   "outputs": [],
   "source": []
  },
  {
   "cell_type": "code",
   "execution_count": null,
   "metadata": {
    "collapsed": true
   },
   "outputs": [],
   "source": []
  },
  {
   "cell_type": "code",
   "execution_count": null,
   "metadata": {
    "collapsed": true
   },
   "outputs": [],
   "source": []
  },
  {
   "cell_type": "code",
   "execution_count": null,
   "metadata": {
    "collapsed": true
   },
   "outputs": [],
   "source": []
  },
  {
   "cell_type": "markdown",
   "metadata": {},
   "source": [
    "# Project: Find the best restaurants at the best price for each zip code\n",
    "We will now walk through in class how to turn the JSON data into a pandas DataFrame in order to answer more interesting questions like finding the best restaurants at the best price for each zip code."
   ]
  },
  {
   "cell_type": "code",
   "execution_count": 140,
   "metadata": {
    "collapsed": true
   },
   "outputs": [],
   "source": [
    "with open('zip_codes.txt', 'r') as f:\n",
    "    zip_codes = [int(line.strip()) for line in f.readlines()]"
   ]
  },
  {
   "cell_type": "code",
   "execution_count": 106,
   "metadata": {
    "collapsed": true
   },
   "outputs": [],
   "source": [
    "# this will take a long time. You might want to use less zip codes\n",
    "all_restaurants = []\n",
    "for zip_code in zip_codes:\n",
    "    params = {'location': f'{zip_code}',\n",
    "              'categories':'restaurants',\n",
    "              'offset':'0',\n",
    "              'limit':'50'\n",
    "             }\n",
    "\n",
    "    resp = requests.get(url=url, params=params, headers=headers)\n",
    "    cur_data = resp.json()['businesses']\n",
    "    all_restaurants.extend(cur_data)"
   ]
  },
  {
   "cell_type": "code",
   "execution_count": 147,
   "metadata": {
    "collapsed": true
   },
   "outputs": [],
   "source": [
    "rows = []\n",
    "for restaurant in all_restaurants:\n",
    "    row = {}\n",
    "    row['Category'] = restaurant['categories'][0]['title']\n",
    "    row['Latitude'] = restaurant['coordinates']['latitude']\n",
    "    row['Longitude'] = restaurant['coordinates']['longitude']\n",
    "    row['Phone'] = restaurant['display_phone']\n",
    "    row['ID'] = restaurant['id']\n",
    "    row['image_url'] = restaurant['image_url']\n",
    "    row['Address'] = restaurant['location']['address1']\n",
    "    row['City'] = restaurant['location']['city']\n",
    "    row['State'] = restaurant['location']['state']\n",
    "    row['Zip Code'] = restaurant['location']['zip_code']\n",
    "    row['Name'] = restaurant['name']\n",
    "    row['Price'] = restaurant.get('price', None)\n",
    "    row['Rating'] = restaurant['rating']\n",
    "    row['Review Count'] = restaurant['review_count']\n",
    "    row['URL'] = restaurant['url']\n",
    "    \n",
    "    rows.append(row)"
   ]
  },
  {
   "cell_type": "code",
   "execution_count": 154,
   "metadata": {
    "collapsed": true
   },
   "outputs": [],
   "source": [
    "df_restaurants = pd.DataFrame(rows)\n",
    "df_restaurants = df_restaurants.drop_duplicates()"
   ]
  },
  {
   "cell_type": "code",
   "execution_count": 185,
   "metadata": {},
   "outputs": [
    {
     "data": {
      "text/html": [
       "<div>\n",
       "<style>\n",
       "    .dataframe thead tr:only-child th {\n",
       "        text-align: right;\n",
       "    }\n",
       "\n",
       "    .dataframe thead th {\n",
       "        text-align: left;\n",
       "    }\n",
       "\n",
       "    .dataframe tbody tr th {\n",
       "        vertical-align: top;\n",
       "    }\n",
       "</style>\n",
       "<table border=\"1\" class=\"dataframe\">\n",
       "  <thead>\n",
       "    <tr style=\"text-align: right;\">\n",
       "      <th></th>\n",
       "      <th>Address</th>\n",
       "      <th>Category</th>\n",
       "      <th>City</th>\n",
       "      <th>ID</th>\n",
       "      <th>Latitude</th>\n",
       "      <th>Longitude</th>\n",
       "      <th>Name</th>\n",
       "      <th>Phone</th>\n",
       "      <th>Price</th>\n",
       "      <th>Rating</th>\n",
       "      <th>Review Count</th>\n",
       "      <th>State</th>\n",
       "      <th>URL</th>\n",
       "      <th>Zip Code</th>\n",
       "      <th>image_url</th>\n",
       "    </tr>\n",
       "  </thead>\n",
       "  <tbody>\n",
       "    <tr>\n",
       "      <th>0</th>\n",
       "      <td>607 South Friendswood Dr</td>\n",
       "      <td>Brasseries</td>\n",
       "      <td>Friendswood</td>\n",
       "      <td>brasserie-1895-friendswood</td>\n",
       "      <td>29.527583</td>\n",
       "      <td>-95.196976</td>\n",
       "      <td>Brasserie 1895</td>\n",
       "      <td>(832) 385-2278</td>\n",
       "      <td>$$</td>\n",
       "      <td>4.5</td>\n",
       "      <td>77</td>\n",
       "      <td>TX</td>\n",
       "      <td>https://www.yelp.com/biz/brasserie-1895-friend...</td>\n",
       "      <td>77546</td>\n",
       "      <td>https://s3-media2.fl.yelpcdn.com/bphoto/frI1jM...</td>\n",
       "    </tr>\n",
       "    <tr>\n",
       "      <th>1</th>\n",
       "      <td>709 W Parkwood</td>\n",
       "      <td>Italian</td>\n",
       "      <td>Friendswood</td>\n",
       "      <td>amici-restaurant-friendswood</td>\n",
       "      <td>29.505117</td>\n",
       "      <td>-95.192062</td>\n",
       "      <td>Amici Restaurant</td>\n",
       "      <td>(832) 569-5736</td>\n",
       "      <td>$$</td>\n",
       "      <td>4.5</td>\n",
       "      <td>90</td>\n",
       "      <td>TX</td>\n",
       "      <td>https://www.yelp.com/biz/amici-restaurant-frie...</td>\n",
       "      <td>77546</td>\n",
       "      <td>https://s3-media4.fl.yelpcdn.com/bphoto/za6Swg...</td>\n",
       "    </tr>\n",
       "    <tr>\n",
       "      <th>2</th>\n",
       "      <td>5105 Fm 2351 Rd</td>\n",
       "      <td>Tex-Mex</td>\n",
       "      <td>Friendswood</td>\n",
       "      <td>habaneros-tex-mex-friendswood-2</td>\n",
       "      <td>29.545499</td>\n",
       "      <td>-95.193596</td>\n",
       "      <td>Habaneros Tex-Mex</td>\n",
       "      <td>(832) 569-2289</td>\n",
       "      <td>$</td>\n",
       "      <td>4.5</td>\n",
       "      <td>69</td>\n",
       "      <td>TX</td>\n",
       "      <td>https://www.yelp.com/biz/habaneros-tex-mex-fri...</td>\n",
       "      <td>77546</td>\n",
       "      <td>https://s3-media4.fl.yelpcdn.com/bphoto/Nx_Jme...</td>\n",
       "    </tr>\n",
       "    <tr>\n",
       "      <th>3</th>\n",
       "      <td>111 S Friendswood Dr</td>\n",
       "      <td>Bars</td>\n",
       "      <td>Friendswood</td>\n",
       "      <td>friends-uncorked-friendswood</td>\n",
       "      <td>29.532714</td>\n",
       "      <td>-95.204429</td>\n",
       "      <td>Friends Uncorked</td>\n",
       "      <td>(281) 648-1707</td>\n",
       "      <td>$$</td>\n",
       "      <td>4.0</td>\n",
       "      <td>22</td>\n",
       "      <td>TX</td>\n",
       "      <td>https://www.yelp.com/biz/friends-uncorked-frie...</td>\n",
       "      <td>77546</td>\n",
       "      <td>https://s3-media1.fl.yelpcdn.com/bphoto/VED4G4...</td>\n",
       "    </tr>\n",
       "    <tr>\n",
       "      <th>4</th>\n",
       "      <td>3640 E Fm 528 Rd</td>\n",
       "      <td>Vietnamese</td>\n",
       "      <td>Friendswood</td>\n",
       "      <td>nobi-asian-grill-friendswood</td>\n",
       "      <td>29.522029</td>\n",
       "      <td>-95.169271</td>\n",
       "      <td>Nobi Asian Grill</td>\n",
       "      <td>(281) 482-6624</td>\n",
       "      <td>$</td>\n",
       "      <td>4.0</td>\n",
       "      <td>170</td>\n",
       "      <td>TX</td>\n",
       "      <td>https://www.yelp.com/biz/nobi-asian-grill-frie...</td>\n",
       "      <td>77546</td>\n",
       "      <td>https://s3-media3.fl.yelpcdn.com/bphoto/i1cX_D...</td>\n",
       "    </tr>\n",
       "    <tr>\n",
       "      <th>5</th>\n",
       "      <td>400 W Parkwood</td>\n",
       "      <td>Mexican</td>\n",
       "      <td>Friendswood</td>\n",
       "      <td>la-escondida-mexican-grill-friendswood</td>\n",
       "      <td>29.508131</td>\n",
       "      <td>-95.191543</td>\n",
       "      <td>La Escondida Mexican Grill</td>\n",
       "      <td>(832) 569-5785</td>\n",
       "      <td>$$</td>\n",
       "      <td>4.0</td>\n",
       "      <td>58</td>\n",
       "      <td>TX</td>\n",
       "      <td>https://www.yelp.com/biz/la-escondida-mexican-...</td>\n",
       "      <td>77546</td>\n",
       "      <td>https://s3-media2.fl.yelpcdn.com/bphoto/t7qoYJ...</td>\n",
       "    </tr>\n",
       "    <tr>\n",
       "      <th>6</th>\n",
       "      <td>700 Baybrook Mall</td>\n",
       "      <td>Cajun/Creole</td>\n",
       "      <td>Webster</td>\n",
       "      <td>the-rouxpour-webster</td>\n",
       "      <td>29.546088</td>\n",
       "      <td>-95.149401</td>\n",
       "      <td>The Rouxpour</td>\n",
       "      <td>(281) 480-4052</td>\n",
       "      <td>$$</td>\n",
       "      <td>3.5</td>\n",
       "      <td>117</td>\n",
       "      <td>TX</td>\n",
       "      <td>https://www.yelp.com/biz/the-rouxpour-webster?...</td>\n",
       "      <td>77546</td>\n",
       "      <td>https://s3-media4.fl.yelpcdn.com/bphoto/Yw_evF...</td>\n",
       "    </tr>\n",
       "    <tr>\n",
       "      <th>7</th>\n",
       "      <td>6011 W Main St</td>\n",
       "      <td>Breakfast &amp; Brunch</td>\n",
       "      <td>League City</td>\n",
       "      <td>red-oak-cafe-league-city</td>\n",
       "      <td>29.488402</td>\n",
       "      <td>-95.157472</td>\n",
       "      <td>Red Oak Cafe</td>\n",
       "      <td>(832) 905-3150</td>\n",
       "      <td>$$</td>\n",
       "      <td>4.0</td>\n",
       "      <td>140</td>\n",
       "      <td>TX</td>\n",
       "      <td>https://www.yelp.com/biz/red-oak-cafe-league-c...</td>\n",
       "      <td>77573</td>\n",
       "      <td>https://s3-media2.fl.yelpcdn.com/bphoto/4LHERD...</td>\n",
       "    </tr>\n",
       "    <tr>\n",
       "      <th>8</th>\n",
       "      <td>700 Baybrook Mall</td>\n",
       "      <td>American (New)</td>\n",
       "      <td>Friendswood</td>\n",
       "      <td>yard-house-friendswood-2</td>\n",
       "      <td>29.546362</td>\n",
       "      <td>-95.150104</td>\n",
       "      <td>Yard House</td>\n",
       "      <td>(281) 282-9273</td>\n",
       "      <td>$$</td>\n",
       "      <td>3.5</td>\n",
       "      <td>170</td>\n",
       "      <td>TX</td>\n",
       "      <td>https://www.yelp.com/biz/yard-house-friendswoo...</td>\n",
       "      <td>77546</td>\n",
       "      <td>https://s3-media1.fl.yelpcdn.com/bphoto/YM91-c...</td>\n",
       "    </tr>\n",
       "    <tr>\n",
       "      <th>9</th>\n",
       "      <td>700 Baybrook Mall</td>\n",
       "      <td>Salvadoran</td>\n",
       "      <td>Friendswood</td>\n",
       "      <td>glorias-latin-cuisine-friendswood-2</td>\n",
       "      <td>29.545375</td>\n",
       "      <td>-95.149330</td>\n",
       "      <td>Gloria's Latin Cuisine</td>\n",
       "      <td>(281) 667-9869</td>\n",
       "      <td>$$</td>\n",
       "      <td>4.0</td>\n",
       "      <td>38</td>\n",
       "      <td>TX</td>\n",
       "      <td>https://www.yelp.com/biz/glorias-latin-cuisine...</td>\n",
       "      <td>77546</td>\n",
       "      <td>https://s3-media3.fl.yelpcdn.com/bphoto/25kk3S...</td>\n",
       "    </tr>\n",
       "  </tbody>\n",
       "</table>\n",
       "</div>"
      ],
      "text/plain": [
       "                    Address            Category         City  \\\n",
       "0  607 South Friendswood Dr          Brasseries  Friendswood   \n",
       "1            709 W Parkwood             Italian  Friendswood   \n",
       "2           5105 Fm 2351 Rd             Tex-Mex  Friendswood   \n",
       "3      111 S Friendswood Dr                Bars  Friendswood   \n",
       "4          3640 E Fm 528 Rd          Vietnamese  Friendswood   \n",
       "5            400 W Parkwood             Mexican  Friendswood   \n",
       "6         700 Baybrook Mall        Cajun/Creole      Webster   \n",
       "7            6011 W Main St  Breakfast & Brunch  League City   \n",
       "8         700 Baybrook Mall      American (New)  Friendswood   \n",
       "9         700 Baybrook Mall          Salvadoran  Friendswood   \n",
       "\n",
       "                                       ID   Latitude  Longitude  \\\n",
       "0              brasserie-1895-friendswood  29.527583 -95.196976   \n",
       "1            amici-restaurant-friendswood  29.505117 -95.192062   \n",
       "2         habaneros-tex-mex-friendswood-2  29.545499 -95.193596   \n",
       "3            friends-uncorked-friendswood  29.532714 -95.204429   \n",
       "4            nobi-asian-grill-friendswood  29.522029 -95.169271   \n",
       "5  la-escondida-mexican-grill-friendswood  29.508131 -95.191543   \n",
       "6                    the-rouxpour-webster  29.546088 -95.149401   \n",
       "7                red-oak-cafe-league-city  29.488402 -95.157472   \n",
       "8                yard-house-friendswood-2  29.546362 -95.150104   \n",
       "9     glorias-latin-cuisine-friendswood-2  29.545375 -95.149330   \n",
       "\n",
       "                         Name           Phone Price  Rating  Review Count  \\\n",
       "0              Brasserie 1895  (832) 385-2278    $$     4.5            77   \n",
       "1            Amici Restaurant  (832) 569-5736    $$     4.5            90   \n",
       "2           Habaneros Tex-Mex  (832) 569-2289     $     4.5            69   \n",
       "3            Friends Uncorked  (281) 648-1707    $$     4.0            22   \n",
       "4            Nobi Asian Grill  (281) 482-6624     $     4.0           170   \n",
       "5  La Escondida Mexican Grill  (832) 569-5785    $$     4.0            58   \n",
       "6                The Rouxpour  (281) 480-4052    $$     3.5           117   \n",
       "7                Red Oak Cafe  (832) 905-3150    $$     4.0           140   \n",
       "8                  Yard House  (281) 282-9273    $$     3.5           170   \n",
       "9      Gloria's Latin Cuisine  (281) 667-9869    $$     4.0            38   \n",
       "\n",
       "  State                                                URL Zip Code  \\\n",
       "0    TX  https://www.yelp.com/biz/brasserie-1895-friend...    77546   \n",
       "1    TX  https://www.yelp.com/biz/amici-restaurant-frie...    77546   \n",
       "2    TX  https://www.yelp.com/biz/habaneros-tex-mex-fri...    77546   \n",
       "3    TX  https://www.yelp.com/biz/friends-uncorked-frie...    77546   \n",
       "4    TX  https://www.yelp.com/biz/nobi-asian-grill-frie...    77546   \n",
       "5    TX  https://www.yelp.com/biz/la-escondida-mexican-...    77546   \n",
       "6    TX  https://www.yelp.com/biz/the-rouxpour-webster?...    77546   \n",
       "7    TX  https://www.yelp.com/biz/red-oak-cafe-league-c...    77573   \n",
       "8    TX  https://www.yelp.com/biz/yard-house-friendswoo...    77546   \n",
       "9    TX  https://www.yelp.com/biz/glorias-latin-cuisine...    77546   \n",
       "\n",
       "                                           image_url  \n",
       "0  https://s3-media2.fl.yelpcdn.com/bphoto/frI1jM...  \n",
       "1  https://s3-media4.fl.yelpcdn.com/bphoto/za6Swg...  \n",
       "2  https://s3-media4.fl.yelpcdn.com/bphoto/Nx_Jme...  \n",
       "3  https://s3-media1.fl.yelpcdn.com/bphoto/VED4G4...  \n",
       "4  https://s3-media3.fl.yelpcdn.com/bphoto/i1cX_D...  \n",
       "5  https://s3-media2.fl.yelpcdn.com/bphoto/t7qoYJ...  \n",
       "6  https://s3-media4.fl.yelpcdn.com/bphoto/Yw_evF...  \n",
       "7  https://s3-media2.fl.yelpcdn.com/bphoto/4LHERD...  \n",
       "8  https://s3-media1.fl.yelpcdn.com/bphoto/YM91-c...  \n",
       "9  https://s3-media3.fl.yelpcdn.com/bphoto/25kk3S...  "
      ]
     },
     "execution_count": 185,
     "metadata": {},
     "output_type": "execute_result"
    }
   ],
   "source": [
    "df_restaurants.head(10)"
   ]
  }
 ],
 "metadata": {
  "kernelspec": {
   "display_name": "Python 3",
   "language": "python",
   "name": "python3"
  },
  "language_info": {
   "codemirror_mode": {
    "name": "ipython",
    "version": 3
   },
   "file_extension": ".py",
   "mimetype": "text/x-python",
   "name": "python",
   "nbconvert_exporter": "python",
   "pygments_lexer": "ipython3",
   "version": "3.6.1"
  }
 },
 "nbformat": 4,
 "nbformat_minor": 2
}
