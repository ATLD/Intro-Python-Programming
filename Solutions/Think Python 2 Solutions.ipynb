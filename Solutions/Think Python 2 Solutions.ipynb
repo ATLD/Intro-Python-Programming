{
 "cells": [
  {
   "cell_type": "markdown",
   "metadata": {},
   "source": [
    "# Think Python 2 Solutions\n",
    "Check the [author's solutions](http://greenteapress.com/thinkpython2/code/)\n",
    "\n",
    "* [Chapter 1](#Chapter-1)\n",
    "* [Chapter 2](#Chapter-2)\n",
    "* [Chapter 3](#Chapter-3)\n",
    "* [Chapter 4](#Chapter-4)\n",
    "* [Chapter 5](#Chapter-5)\n",
    "* [Chapter 6](#Chapter-6)\n",
    "* [Chapter 7](#Chapter-7)\n",
    "* [Chapter 8](#Chapter-8)\n",
    "* [Chapter 9](#Chapter-9)\n",
    "* [Chapter 10](#Chapter-10)\n",
    "* [Chapter 11](#Chapter-11)\n",
    "* [Chapter 12](#Chapter-12)\n",
    "* [Chapter 13](#Chapter-13)\n",
    "* [Chapter 14](#Chapter-14)\n",
    "* [Chapter 15](#Chapter-15)\n",
    "* [Chapter 16](#Chapter-16)\n",
    "* [Chapter 17](#Chapter-17)\n",
    "* [Chapter 18](#Chapter-18)\n",
    "* [Chapter 19](#Chapter-19)"
   ]
  },
  {
   "cell_type": "markdown",
   "metadata": {},
   "source": [
    "# Chapter 1\n",
    "\n",
    "### Exercise 1.1"
   ]
  },
  {
   "cell_type": "code",
   "execution_count": 9,
   "metadata": {},
   "outputs": [
    {
     "ename": "SyntaxError",
     "evalue": "unexpected EOF while parsing (<ipython-input-9-0441a597794c>, line 2)",
     "output_type": "error",
     "traceback": [
      "\u001b[0;36m  File \u001b[0;32m\"<ipython-input-9-0441a597794c>\"\u001b[0;36m, line \u001b[0;32m2\u001b[0m\n\u001b[0;31m    print('hello'\u001b[0m\n\u001b[0m                 ^\u001b[0m\n\u001b[0;31mSyntaxError\u001b[0m\u001b[0;31m:\u001b[0m unexpected EOF while parsing\n"
     ]
    }
   ],
   "source": [
    "#1. In a print statement, what happens if you leave out one of the parentheses, or both?\n",
    "print('hello'"
   ]
  },
  {
   "cell_type": "code",
   "execution_count": 10,
   "metadata": {},
   "outputs": [
    {
     "ename": "SyntaxError",
     "evalue": "EOL while scanning string literal (<ipython-input-10-c8b53a4d765b>, line 2)",
     "output_type": "error",
     "traceback": [
      "\u001b[0;36m  File \u001b[0;32m\"<ipython-input-10-c8b53a4d765b>\"\u001b[0;36m, line \u001b[0;32m2\u001b[0m\n\u001b[0;31m    print('hello)\u001b[0m\n\u001b[0m                 ^\u001b[0m\n\u001b[0;31mSyntaxError\u001b[0m\u001b[0;31m:\u001b[0m EOL while scanning string literal\n"
     ]
    }
   ],
   "source": [
    "# 2. If you are trying to print a string, what happens if you leave out one of the quotation marks, or both?\n",
    "print('hello)"
   ]
  },
  {
   "cell_type": "code",
   "execution_count": 11,
   "metadata": {},
   "outputs": [
    {
     "data": {
      "text/plain": [
       "4"
      ]
     },
     "execution_count": 11,
     "metadata": {},
     "output_type": "execute_result"
    }
   ],
   "source": [
    "# 3. You can use a minus sign to make a negative number like -2. \n",
    "# What happens if you put a plus sign before a number? What about 2++2?\n",
    "\n",
    "2 + + 2"
   ]
  },
  {
   "cell_type": "code",
   "execution_count": 12,
   "metadata": {},
   "outputs": [
    {
     "data": {
      "text/plain": [
       "4"
      ]
     },
     "execution_count": 12,
     "metadata": {},
     "output_type": "execute_result"
    }
   ],
   "source": [
    "2++2"
   ]
  },
  {
   "cell_type": "code",
   "execution_count": 13,
   "metadata": {},
   "outputs": [
    {
     "data": {
      "text/plain": [
       "4"
      ]
     },
     "execution_count": 13,
     "metadata": {},
     "output_type": "execute_result"
    }
   ],
   "source": [
    "2 + + + 2"
   ]
  },
  {
   "cell_type": "code",
   "execution_count": 14,
   "metadata": {},
   "outputs": [
    {
     "ename": "SyntaxError",
     "evalue": "invalid token (<ipython-input-14-adfd4b89d10d>, line 2)",
     "output_type": "error",
     "traceback": [
      "\u001b[0;36m  File \u001b[0;32m\"<ipython-input-14-adfd4b89d10d>\"\u001b[0;36m, line \u001b[0;32m2\u001b[0m\n\u001b[0;31m    02 + 09\u001b[0m\n\u001b[0m     ^\u001b[0m\n\u001b[0;31mSyntaxError\u001b[0m\u001b[0;31m:\u001b[0m invalid token\n"
     ]
    }
   ],
   "source": [
    "# 4. In math notation, leading zeros are ok, as in 02. What happens if you try this in Python?\n",
    "02 + 09"
   ]
  },
  {
   "cell_type": "code",
   "execution_count": 15,
   "metadata": {},
   "outputs": [
    {
     "ename": "SyntaxError",
     "evalue": "invalid syntax (<ipython-input-15-26a5db244007>, line 2)",
     "output_type": "error",
     "traceback": [
      "\u001b[0;36m  File \u001b[0;32m\"<ipython-input-15-26a5db244007>\"\u001b[0;36m, line \u001b[0;32m2\u001b[0m\n\u001b[0;31m    5 7\u001b[0m\n\u001b[0m      ^\u001b[0m\n\u001b[0;31mSyntaxError\u001b[0m\u001b[0;31m:\u001b[0m invalid syntax\n"
     ]
    }
   ],
   "source": [
    "# 5. What happens if you have two values with no operator between them?\n",
    "5 7"
   ]
  },
  {
   "cell_type": "markdown",
   "metadata": {},
   "source": [
    "### Exercise 1.2"
   ]
  },
  {
   "cell_type": "code",
   "execution_count": 16,
   "metadata": {},
   "outputs": [
    {
     "data": {
      "text/plain": [
       "2562"
      ]
     },
     "execution_count": 16,
     "metadata": {},
     "output_type": "execute_result"
    }
   ],
   "source": [
    "#1. How many seconds are there in 42 minutes 42 seconds?\n",
    "42 * 60 + 42"
   ]
  },
  {
   "cell_type": "code",
   "execution_count": 20,
   "metadata": {},
   "outputs": [
    {
     "data": {
      "text/plain": [
       "6.211180124223602"
      ]
     },
     "execution_count": 20,
     "metadata": {},
     "output_type": "execute_result"
    }
   ],
   "source": [
    "# 2. How many miles are there in 10 kilometers? Hint: there are 1.61 kilometers in a mile.\n",
    "10 / 1.61"
   ]
  },
  {
   "cell_type": "code",
   "execution_count": 24,
   "metadata": {},
   "outputs": [
    {
     "data": {
      "text/plain": [
       "(6.0, 52.48200000000003)"
      ]
     },
     "execution_count": 24,
     "metadata": {},
     "output_type": "execute_result"
    }
   ],
   "source": [
    "# 3. If you run a 10 kilometer race in 42 minutes 42 seconds, \n",
    "# what is your average pace (time per mile in minutes and seconds)? \n",
    "total_seconds = (42 * 60 + 42) / (10 / 1.61)\n",
    "minutes = total_seconds // 60\n",
    "seconds = total_seconds % 60\n",
    "minutes, seconds"
   ]
  },
  {
   "cell_type": "code",
   "execution_count": 25,
   "metadata": {},
   "outputs": [
    {
     "data": {
      "text/plain": [
       "8.727653570337614"
      ]
     },
     "execution_count": 25,
     "metadata": {},
     "output_type": "execute_result"
    }
   ],
   "source": [
    "# What is your average speed in miles per hour?\n",
    "(10 / 1.61) / (42 * 60 + 42) * 3600"
   ]
  },
  {
   "cell_type": "markdown",
   "metadata": {},
   "source": [
    "# Chapter 2\n",
    "### Exercise 2.1"
   ]
  },
  {
   "cell_type": "code",
   "execution_count": 26,
   "metadata": {},
   "outputs": [
    {
     "ename": "SyntaxError",
     "evalue": "can't assign to literal (<ipython-input-26-ae1254b21d06>, line 2)",
     "output_type": "error",
     "traceback": [
      "\u001b[0;36m  File \u001b[0;32m\"<ipython-input-26-ae1254b21d06>\"\u001b[0;36m, line \u001b[0;32m2\u001b[0m\n\u001b[0;31m    42 = n\u001b[0m\n\u001b[0m          ^\u001b[0m\n\u001b[0;31mSyntaxError\u001b[0m\u001b[0;31m:\u001b[0m can't assign to literal\n"
     ]
    }
   ],
   "source": [
    "# We’ve seen that n = 42 is legal. What about 42 = n?\n",
    "42 = n"
   ]
  },
  {
   "cell_type": "code",
   "execution_count": 28,
   "metadata": {},
   "outputs": [
    {
     "data": {
      "text/plain": [
       "(1, 1)"
      ]
     },
     "execution_count": 28,
     "metadata": {},
     "output_type": "execute_result"
    }
   ],
   "source": [
    "# How about x = y = 1?\n",
    "x = y = 1\n",
    "x, y"
   ]
  },
  {
   "cell_type": "code",
   "execution_count": 30,
   "metadata": {},
   "outputs": [
    {
     "data": {
      "text/plain": [
       "15"
      ]
     },
     "execution_count": 30,
     "metadata": {},
     "output_type": "execute_result"
    }
   ],
   "source": [
    "# In some languages every statement ends with a semi-colon, ;. \n",
    "# What happens if you put a semi-colon at the end of a Python statement?\n",
    "\n",
    "# This is valid Python. You can simply write another line of code\n",
    "x = 5; y = 10; x+y"
   ]
  },
  {
   "cell_type": "code",
   "execution_count": null,
   "metadata": {
    "collapsed": true
   },
   "outputs": [],
   "source": [
    "# What if you put a period at the end of a statement?\n",
    "# Syntax error"
   ]
  },
  {
   "cell_type": "code",
   "execution_count": 34,
   "metadata": {},
   "outputs": [],
   "source": [
    "# In math notation you can multiply x and y like this: xy. What happens if you try that in Python?\n",
    "# Python will look for the variable xy and produce a NameError"
   ]
  },
  {
   "cell_type": "markdown",
   "metadata": {},
   "source": [
    "### Exercise 2.2"
   ]
  },
  {
   "cell_type": "code",
   "execution_count": 35,
   "metadata": {
    "collapsed": true
   },
   "outputs": [],
   "source": [
    "import math"
   ]
  },
  {
   "cell_type": "code",
   "execution_count": 36,
   "metadata": {},
   "outputs": [
    {
     "data": {
      "text/plain": [
       "523.5987755982989"
      ]
     },
     "execution_count": 36,
     "metadata": {},
     "output_type": "execute_result"
    }
   ],
   "source": [
    "# 1. The volume of a sphere with radius r is 4 πr3. What is the volume of a sphere with radius 5?\n",
    "r = 5\n",
    "4 / 3 * math.pi * r ** 3"
   ]
  },
  {
   "cell_type": "code",
   "execution_count": 39,
   "metadata": {},
   "outputs": [
    {
     "data": {
      "text/plain": [
       "945.4499999999999"
      ]
     },
     "execution_count": 39,
     "metadata": {},
     "output_type": "execute_result"
    }
   ],
   "source": [
    "# 2. Suppose the cover price of a book is $24.95, but bookstores get a 40% discount. \n",
    "# Shipping costs $3 for the first copy and 75 cents for each additional copy. \n",
    "# What is the total wholesale cost for 60 copies?\n",
    "cp = 24.95\n",
    "discount = .4\n",
    "shipping1 = 3\n",
    "shipping_other = .75\n",
    "n = 60\n",
    "\n",
    "cp * (1 - discount) * n + shipping1 + shipping_other * (n - 1)"
   ]
  },
  {
   "cell_type": "code",
   "execution_count": 48,
   "metadata": {},
   "outputs": [
    {
     "data": {
      "text/plain": [
       "(7, 21, 51)"
      ]
     },
     "execution_count": 48,
     "metadata": {},
     "output_type": "execute_result"
    }
   ],
   "source": [
    "# 3. If I leave my house at 6:52 am and run 1 mile at an easy pace (8:15 per mile), \n",
    "# then 3 miles at tempo (7:12 per mile) and 1 mile at easy pace again, \n",
    "# what time do I get home for breakfast?\n",
    "\n",
    "# setup\n",
    "minutes_start = 52\n",
    "hours_start = 6\n",
    "minutes = 8 + 7 * 3\n",
    "seconds = 15 + 12 * 3\n",
    "\n",
    "# convert to mintues\n",
    "minutes += seconds // 60\n",
    "seconds_end = seconds % 60\n",
    "\n",
    "# add to start\n",
    "total_minutes = minutes_start + minutes\n",
    "minutes_end = total_minutes % 60\n",
    "hours_end = hours_start + total_minutes // 60\n",
    "\n",
    "# output result\n",
    "hours_end, minutes_end, seconds_end"
   ]
  },
  {
   "cell_type": "markdown",
   "metadata": {},
   "source": [
    "# Chapter 3\n",
    "### Exercise 3.1"
   ]
  },
  {
   "cell_type": "code",
   "execution_count": 8,
   "metadata": {
    "collapsed": true
   },
   "outputs": [],
   "source": [
    "# Write a function named right_justify that takes a string named s as a parameter \n",
    "# and prints the string with enough leading spaces so that the last letter of the string \n",
    "# is in column 70 of the display.\n",
    "\n",
    "import sys\n",
    "\n",
    "def right_justify(s):\n",
    "    \n",
    "    # manual non-pythonic way\n",
    "    num_spaces = 70 - len(s)\n",
    "    print(' ' * num_spaces + s)\n",
    "    \n",
    "    # Python actually has functionality to do this automatically\n",
    "    print('{:>70}'.format(s))\n",
    "    \n",
    "    # new and improved f-strings only available in 3.6 or greater\n",
    "    if sys.version_info.minor >= 6:\n",
    "        print(f'{s:>70}')\n",
    "    else:\n",
    "        print('Your current python version does not support f-strings')"
   ]
  },
  {
   "cell_type": "code",
   "execution_count": 6,
   "metadata": {},
   "outputs": [
    {
     "name": "stdout",
     "output_type": "stream",
     "text": [
      "                                                                 monty\n",
      "                                                                 monty\n",
      "                                                                 monty\n"
     ]
    }
   ],
   "source": [
    "right_justify('monty')"
   ]
  },
  {
   "cell_type": "markdown",
   "metadata": {},
   "source": [
    "### Exercise 3.2"
   ]
  },
  {
   "cell_type": "code",
   "execution_count": 10,
   "metadata": {},
   "outputs": [
    {
     "name": "stdout",
     "output_type": "stream",
     "text": [
      "this is spam\n",
      "this is spam\n"
     ]
    }
   ],
   "source": [
    "# 1. Type this example into a script and test it.\n",
    "def do_twice(func):\n",
    "    func()\n",
    "    func()\n",
    "    \n",
    "    \n",
    "def spam():\n",
    "    print('this is spam')\n",
    "    \n",
    "do_twice(spam)"
   ]
  },
  {
   "cell_type": "code",
   "execution_count": 11,
   "metadata": {},
   "outputs": [
    {
     "name": "stdout",
     "output_type": "stream",
     "text": [
      "                                                                 monty\n",
      "                                                                 monty\n",
      "                                                                 monty\n",
      "                                                                 monty\n",
      "                                                                 monty\n",
      "                                                                 monty\n"
     ]
    }
   ],
   "source": [
    "# 2. Modify do_twice so that it takes two arguments, \n",
    "# a function object and a value, and calls the function twice, passing the value as an argument.\n",
    "def do_twice(func, arg):\n",
    "    func(arg)\n",
    "    func(arg)\n",
    "    \n",
    "do_twice(right_justify, 'monty')"
   ]
  },
  {
   "cell_type": "code",
   "execution_count": 12,
   "metadata": {
    "collapsed": true
   },
   "outputs": [],
   "source": [
    "# 3. Copy the definition of print_twice from earlier in this chapter to your script.\n",
    "def print_twice(x):\n",
    "    print(x)\n",
    "    print(x)"
   ]
  },
  {
   "cell_type": "code",
   "execution_count": 14,
   "metadata": {},
   "outputs": [
    {
     "name": "stdout",
     "output_type": "stream",
     "text": [
      "spam\n",
      "spam\n",
      "spam\n",
      "spam\n"
     ]
    }
   ],
   "source": [
    "# 4. Use the modified version of do_twice to call print_twice twice, passing 'spam' as an argument.\n",
    "do_twice(print_twice, 'spam')"
   ]
  },
  {
   "cell_type": "code",
   "execution_count": 15,
   "metadata": {},
   "outputs": [
    {
     "name": "stdout",
     "output_type": "stream",
     "text": [
      "four\n",
      "four\n",
      "four\n",
      "four\n",
      "four\n",
      "four\n",
      "four\n",
      "four\n"
     ]
    }
   ],
   "source": [
    "# 5. Define a new function called do_four that takes a function object and a value \n",
    "# and calls the function four times, passing the value as a parameter. \n",
    "# There should be only two statements in the body of this function, not four.\n",
    "def do_four(func, arg):\n",
    "    do_twice(func, arg)\n",
    "    do_twice(func, arg)\n",
    "    \n",
    "do_four(print_twice, 'four')"
   ]
  },
  {
   "cell_type": "markdown",
   "metadata": {},
   "source": [
    "# Chapter 4"
   ]
  },
  {
   "cell_type": "markdown",
   "metadata": {},
   "source": [
    "# Chapter 5\n",
    "### Exercise 5.1"
   ]
  },
  {
   "cell_type": "code",
   "execution_count": 26,
   "metadata": {},
   "outputs": [
    {
     "data": {
      "text/plain": [
       "(17.0, 15.0, 0.21999216079711914)"
      ]
     },
     "execution_count": 26,
     "metadata": {},
     "output_type": "execute_result"
    }
   ],
   "source": [
    "# Write a script that reads the current time and converts it to a time of day in \n",
    "# hours, minutes, and seconds, plus the number of days since the epoch.\n",
    "import time\n",
    "total_seconds = time.time()\n",
    "hours = total_seconds // 3600 % 24\n",
    "minutes = total_seconds // 60 % 60\n",
    "seconds = total_seconds % 60\n",
    "hours, minutes, seconds"
   ]
  },
  {
   "cell_type": "markdown",
   "metadata": {},
   "source": [
    "### Exercise 5.2"
   ]
  },
  {
   "cell_type": "code",
   "execution_count": 33,
   "metadata": {},
   "outputs": [
    {
     "name": "stdout",
     "output_type": "stream",
     "text": [
      "Nope, try again\n"
     ]
    }
   ],
   "source": [
    "#1. Write a function named check_fermat that takes four parameters—a, b, c and n—and\n",
    "# for any values of n greater than 2.checks to see if Fermat’s theorem holds. \n",
    "def check_fermat(a, b, c, n):\n",
    "    if n > 2 and a ** n + b ** n == c ** n:\n",
    "        print('Fermat was wrong')\n",
    "    else:\n",
    "        print('Nope, try again')\n",
    "        \n",
    "check_fermat(3,4,6,5)"
   ]
  },
  {
   "cell_type": "code",
   "execution_count": 37,
   "metadata": {
    "collapsed": true
   },
   "outputs": [],
   "source": [
    "# Write a function that prompts the user to input values for a, b, c and n, converts them to\n",
    "# integers, and uses check_fermat to check whether they violate Fermat’s theorem.\n",
    "def user_input_fermat():\n",
    "    a = int(input('Input a: '))\n",
    "    b = int(input('Input b: '))\n",
    "    c = int(input('Input c: '))\n",
    "    n = int(input('Input n: '))\n",
    "    check_fermat(a,b,c,n)"
   ]
  },
  {
   "cell_type": "code",
   "execution_count": 39,
   "metadata": {},
   "outputs": [
    {
     "name": "stdout",
     "output_type": "stream",
     "text": [
      "Input a: 3\n",
      "Input b: 4\n",
      "Input c: 5\n",
      "Input n: 3\n",
      "Nope, try again\n"
     ]
    }
   ],
   "source": [
    "user_input_fermat()"
   ]
  },
  {
   "cell_type": "markdown",
   "metadata": {},
   "source": [
    "### Exercise 5.5"
   ]
  },
  {
   "cell_type": "code",
   "execution_count": 48,
   "metadata": {},
   "outputs": [
    {
     "name": "stdout",
     "output_type": "stream",
     "text": [
      "Yes\n",
      "No\n"
     ]
    }
   ],
   "source": [
    "# Write a function named is_triangle that takes three integers as arguments,\n",
    "# and that prints either “Yes” or “No”, depending on whether you \n",
    "# can or cannot form a triangle from sticks with the given lengths.\n",
    "def is_triangle(a, b, c):\n",
    "    if c > a + b or b > a + c or a > b + c:\n",
    "        print('No')\n",
    "    else:\n",
    "        print('Yes')\n",
    "\n",
    "        \n",
    "is_triangle(4,3,6)\n",
    "is_triangle(5,8,13.01)"
   ]
  },
  {
   "cell_type": "code",
   "execution_count": 50,
   "metadata": {},
   "outputs": [
    {
     "name": "stdout",
     "output_type": "stream",
     "text": [
      "Input a: 3\n",
      "Input b: 4\n",
      "Input c: 6\n",
      "Yes\n"
     ]
    }
   ],
   "source": [
    "def user_input_triangle():\n",
    "    a = int(input('Input a: '))\n",
    "    b = int(input('Input b: '))\n",
    "    c = int(input('Input c: '))\n",
    "    is_triangle(a,b,c)\n",
    "    \n",
    "user_input_triangle()"
   ]
  },
  {
   "cell_type": "markdown",
   "metadata": {},
   "source": [
    "# Chapter 6"
   ]
  },
  {
   "cell_type": "markdown",
   "metadata": {},
   "source": [
    "# Chapter 7\n",
    "### Exercise 7.1"
   ]
  },
  {
   "cell_type": "code",
   "execution_count": 56,
   "metadata": {},
   "outputs": [],
   "source": [
    "# Copy the loop from Section 7.5 and encapsulate it in a function called mysqrt \n",
    "# that takes a as a parameter, chooses a reasonable value of x, \n",
    "# and returns an estimate of the square root of a.\n",
    "def mysqrt(a, x):\n",
    "    while True:\n",
    "        print(x)\n",
    "        y = (x + a/x) / 2\n",
    "        if y == x:\n",
    "            break \n",
    "        x=y"
   ]
  },
  {
   "cell_type": "code",
   "execution_count": 59,
   "metadata": {},
   "outputs": [
    {
     "name": "stdout",
     "output_type": "stream",
     "text": [
      "3\n",
      "3.166666666666667\n",
      "3.162280701754386\n",
      "3.162277660169842\n",
      "3.162277660168379\n"
     ]
    }
   ],
   "source": [
    "mysqrt(10, 3)"
   ]
  },
  {
   "cell_type": "markdown",
   "metadata": {},
   "source": [
    "### Exercise 7.2"
   ]
  },
  {
   "cell_type": "code",
   "execution_count": 69,
   "metadata": {
    "collapsed": true
   },
   "outputs": [],
   "source": [
    "# Write a function called eval_loop that iteratively prompts the user, \n",
    "# takes the resulting input and evaluates it using eval, and prints the result.\n",
    "# It should continue until the user enters 'done', and then return the value of the last expression it evaluated.\n",
    "def eval_loop():\n",
    "    while True:\n",
    "        expression = input('Enter Your Expression: ')\n",
    "        if expression == 'done':\n",
    "            break\n",
    "        print(expression + ' = ', eval(expression))"
   ]
  },
  {
   "cell_type": "code",
   "execution_count": 70,
   "metadata": {},
   "outputs": [
    {
     "name": "stdout",
     "output_type": "stream",
     "text": [
      "Enter Your Expression: 10 + 6\n",
      "10 + 6 =  16\n",
      "Enter Your Expression: 6 ** 4\n",
      "6 ** 4 =  1296\n",
      "Enter Your Expression: done\n"
     ]
    }
   ],
   "source": [
    "eval_loop()"
   ]
  },
  {
   "cell_type": "markdown",
   "metadata": {},
   "source": [
    "# Chapter 8\n",
    "### Exercise 8.2"
   ]
  },
  {
   "cell_type": "code",
   "execution_count": 49,
   "metadata": {},
   "outputs": [
    {
     "data": {
      "text/plain": [
       "3"
      ]
     },
     "execution_count": 49,
     "metadata": {},
     "output_type": "execute_result"
    }
   ],
   "source": [
    "# There is a string method called count that is similar to the function in Section 8.7. \n",
    "# Read the documentation of this method and write an invocation that\n",
    "# counts the number of a’s in 'banana'.\n",
    "'banana'.count('a')"
   ]
  },
  {
   "cell_type": "markdown",
   "metadata": {},
   "source": [
    "### Exercise 8.3"
   ]
  },
  {
   "cell_type": "code",
   "execution_count": 72,
   "metadata": {},
   "outputs": [
    {
     "data": {
      "text/plain": [
       "True"
      ]
     },
     "execution_count": 72,
     "metadata": {},
     "output_type": "execute_result"
    }
   ],
   "source": [
    "# Use this idiom to write a one-line version of is_palindrome\n",
    "def is_palindrome(s):\n",
    "    return s == s[::-1]\n",
    "\n",
    "is_palindrome('racecar')"
   ]
  },
  {
   "cell_type": "markdown",
   "metadata": {},
   "source": [
    "### Exercise 8.4"
   ]
  },
  {
   "cell_type": "code",
   "execution_count": 74,
   "metadata": {},
   "outputs": [],
   "source": [
    "# The following functions are all intended to check whether a string \n",
    "# contains any lowercase letters, but at least some of them are wrong. \n",
    "# For each function, describe what the function actually does (assuming that the parameter is a string).\n",
    "\n",
    "# this is wrong because it return a boolean after the first letter.\n",
    "# it does not check each letter\n",
    "def any_lowercase1(s):\n",
    "    for c in s:\n",
    "        if c.islower():\n",
    "            return True\n",
    "        else:\n",
    "            return False\n",
    "        \n",
    "        \n",
    "# this is wrong. It only check the literal character 'c'        \n",
    "def any_lowercase2(s):\n",
    "    for c in s:\n",
    "        if 'c'.islower():\n",
    "            return 'True'\n",
    "        else:\n",
    "            return 'False'\n",
    "        \n",
    "# wrong. It does iterate through all letters but\n",
    "# only retains the very last letter\n",
    "def any_lowercase3(s):\n",
    "    for c in s:\n",
    "        flag = c.islower()\n",
    "    return flag\n",
    "\n",
    "\n",
    "# correct. Iterates through all letters and only needs one to be lowercase\n",
    "def any_lowercase4(s):\n",
    "    flag = False\n",
    "    for c in s:\n",
    "        flag = flag or c.islower()\n",
    "    return flag\n",
    "\n",
    "# wrong. This will return false if any letter is uppercase\n",
    "def any_lowercase5(s):\n",
    "    for c in s:\n",
    "        if not c.islower():\n",
    "            return False\n",
    "    return True"
   ]
  },
  {
   "cell_type": "code",
   "execution_count": 77,
   "metadata": {},
   "outputs": [
    {
     "data": {
      "text/plain": [
       "True"
      ]
     },
     "execution_count": 77,
     "metadata": {},
     "output_type": "execute_result"
    }
   ],
   "source": [
    "any_lowercase4('DFaASD')"
   ]
  },
  {
   "cell_type": "markdown",
   "metadata": {},
   "source": [
    "### Exerise 8.5"
   ]
  },
  {
   "cell_type": "code",
   "execution_count": 123,
   "metadata": {
    "collapsed": true
   },
   "outputs": [],
   "source": [
    "def rotate_word(word, rotation):\n",
    "    new_word = ''\n",
    "    rotation = rotation % 26\n",
    "    for letter in word:\n",
    "        if letter.isalpha():\n",
    "            new_ord = ord(letter) - rotation\n",
    "            new_letter = chr(new_ord)\n",
    "            if letter.isupper() != new_letter.isupper() or not new_letter.isalpha():\n",
    "                new_letter = chr(new_ord + 26)\n",
    "            new_word += new_letter\n",
    "        else:\n",
    "            new_word += letter\n",
    "    return new_word"
   ]
  },
  {
   "cell_type": "code",
   "execution_count": 128,
   "metadata": {},
   "outputs": [
    {
     "data": {
      "text/plain": [
       "'tqjQ Isyudsu'"
      ]
     },
     "execution_count": 128,
     "metadata": {},
     "output_type": "execute_result"
    }
   ],
   "source": [
    "rotate_word('datA Science', 10)"
   ]
  },
  {
   "cell_type": "markdown",
   "metadata": {},
   "source": [
    "# Chapter 9"
   ]
  },
  {
   "cell_type": "code",
   "execution_count": 139,
   "metadata": {
    "collapsed": true
   },
   "outputs": [],
   "source": [
    "# Exercise 9.1"
   ]
  },
  {
   "cell_type": "code",
   "execution_count": 140,
   "metadata": {},
   "outputs": [],
   "source": [
    "# use pip install requests or conda install requests to download requests library\n",
    "import requests"
   ]
  },
  {
   "cell_type": "code",
   "execution_count": 144,
   "metadata": {
    "collapsed": true
   },
   "outputs": [],
   "source": [
    "# make a web request\n",
    "r = requests.get('http://thinkpython2.com/code/words.txt')\n",
    "word_list = r.text.split('\\r\\n')"
   ]
  },
  {
   "cell_type": "code",
   "execution_count": 145,
   "metadata": {},
   "outputs": [
    {
     "name": "stdout",
     "output_type": "stream",
     "text": [
      "counterdemonstrations\n",
      "hyperaggressivenesses\n",
      "microminiaturizations\n"
     ]
    }
   ],
   "source": [
    "# r.text is a string of the entire document\n",
    "for word in word_list:\n",
    "    if len(word) > 20:\n",
    "        print(word)"
   ]
  },
  {
   "cell_type": "markdown",
   "metadata": {},
   "source": [
    "### Exercise 9.2"
   ]
  },
  {
   "cell_type": "code",
   "execution_count": 147,
   "metadata": {
    "collapsed": true
   },
   "outputs": [],
   "source": [
    "# Write a function called has_no_e that returns True if the given word doesn’t have the letter “e” in it.\n",
    "def has_no_e(word):\n",
    "    return 'e' in word.lower()"
   ]
  },
  {
   "cell_type": "code",
   "execution_count": 148,
   "metadata": {},
   "outputs": [
    {
     "data": {
      "text/plain": [
       "0.6692557771724804"
      ]
     },
     "execution_count": 148,
     "metadata": {},
     "output_type": "execute_result"
    }
   ],
   "source": [
    "def percent_e(words):\n",
    "    count = 0\n",
    "    for word in word_list:\n",
    "        if has_no_e(word):\n",
    "            count += 1\n",
    "    return count / len(words)\n",
    "\n",
    "percent_e(word_list)"
   ]
  },
  {
   "cell_type": "markdown",
   "metadata": {},
   "source": [
    "### Exercise 9.3"
   ]
  },
  {
   "cell_type": "code",
   "execution_count": 156,
   "metadata": {},
   "outputs": [
    {
     "name": "stdout",
     "output_type": "stream",
     "text": [
      "Enter forbidden letters: aeiou\n",
      "Percent words excluded:  0.9990510499956067\n"
     ]
    }
   ],
   "source": [
    "# Write a function named avoids that takes a word and a string of forbidden letters, \n",
    "# and that returns True if the word doesn’t use any of the forbidden letters.\n",
    "def avoids(word, forbidden):\n",
    "    for letter in forbidden:\n",
    "        if letter in word:\n",
    "            return False\n",
    "    return True\n",
    "\n",
    "def user_input_avoids():\n",
    "    forbidden = input(\"Enter forbidden letters: \").lower()\n",
    "    count = 0\n",
    "    for word in word_list:\n",
    "        if not avoids(word, forbidden):\n",
    "            count += 1\n",
    "    print('Percent words excluded: ', count / len(word_list))\n",
    "user_input_avoids()"
   ]
  },
  {
   "cell_type": "code",
   "execution_count": 157,
   "metadata": {},
   "outputs": [
    {
     "name": "stdout",
     "output_type": "stream",
     "text": [
      "Enter forbidden letters: aeiot\n",
      "Percent words excluded:  0.9907740971795097\n"
     ]
    }
   ],
   "source": [
    "user_input_avoids()"
   ]
  },
  {
   "cell_type": "markdown",
   "metadata": {},
   "source": [
    "### Exercise 9.4"
   ]
  },
  {
   "cell_type": "code",
   "execution_count": 162,
   "metadata": {
    "collapsed": true
   },
   "outputs": [],
   "source": [
    "# Write a function named uses_only that takes a word and a string of letters, \n",
    "# and that returns True if the word contains only letters in the list. \n",
    "# Can you make a sentence using only the letters acefhlo?\n",
    "def uses_only(word, letters):\n",
    "    for letter in word:\n",
    "        if letter not in letters and letter.isalpha():\n",
    "            return False\n",
    "    return True"
   ]
  },
  {
   "cell_type": "code",
   "execution_count": 165,
   "metadata": {},
   "outputs": [
    {
     "data": {
      "text/plain": [
       "True"
      ]
     },
     "execution_count": 165,
     "metadata": {},
     "output_type": "execute_result"
    }
   ],
   "source": [
    "uses_only('hoe alfalfa', 'acefhlo')"
   ]
  },
  {
   "cell_type": "code",
   "execution_count": 166,
   "metadata": {},
   "outputs": [
    {
     "data": {
      "text/plain": [
       "False"
      ]
     },
     "execution_count": 166,
     "metadata": {},
     "output_type": "execute_result"
    }
   ],
   "source": [
    "uses_only('hoe alfalfaz', 'acefhlo')"
   ]
  },
  {
   "cell_type": "markdown",
   "metadata": {},
   "source": [
    "### Exercise 9.5"
   ]
  },
  {
   "cell_type": "code",
   "execution_count": 167,
   "metadata": {
    "collapsed": true
   },
   "outputs": [],
   "source": [
    "### Write a function named uses_all that takes a word and a string of required letters, \n",
    "# and that returns True if the word uses all the required letters at least once. \n",
    "# How many words are there that use all the vowels aeiou? How about aeiouy?\n",
    "def uses_all(word, letters):\n",
    "    for letter in letters:\n",
    "        if letter not in word:\n",
    "            return False\n",
    "    return True"
   ]
  },
  {
   "cell_type": "code",
   "execution_count": 170,
   "metadata": {},
   "outputs": [
    {
     "data": {
      "text/plain": [
       "True"
      ]
     },
     "execution_count": 170,
     "metadata": {},
     "output_type": "execute_result"
    }
   ],
   "source": [
    "uses_all('door', 'dr')"
   ]
  },
  {
   "cell_type": "code",
   "execution_count": 172,
   "metadata": {},
   "outputs": [
    {
     "name": "stdout",
     "output_type": "stream",
     "text": [
      "Percentage of words using all vowels 0.0052543713206220895\n"
     ]
    }
   ],
   "source": [
    "count = 0\n",
    "for word in word_list:\n",
    "    if uses_all(word, 'aeiou'):\n",
    "        count += 1\n",
    "print('Percentage of words using all vowels', count / len(word_list))"
   ]
  },
  {
   "cell_type": "markdown",
   "metadata": {},
   "source": [
    "### Exercise 9.6"
   ]
  },
  {
   "cell_type": "code",
   "execution_count": 173,
   "metadata": {
    "collapsed": true
   },
   "outputs": [],
   "source": [
    "# Write a function called is_abecedarian that returns True if the letters in a \n",
    "# word appear in alphabetical order (double letters are ok). How many abecedarian words are there?\n",
    "def is_abecedarian(word):\n",
    "    prior_ord = 0\n",
    "    for letter in word:\n",
    "        new_ord = ord(letter)\n",
    "        if new_ord < prior_ord:\n",
    "            return False\n",
    "        prior_ord = new_ord\n",
    "    return True"
   ]
  },
  {
   "cell_type": "code",
   "execution_count": 174,
   "metadata": {},
   "outputs": [
    {
     "data": {
      "text/plain": [
       "True"
      ]
     },
     "execution_count": 174,
     "metadata": {},
     "output_type": "execute_result"
    }
   ],
   "source": [
    "is_abecedarian('abcde')"
   ]
  },
  {
   "cell_type": "code",
   "execution_count": 175,
   "metadata": {},
   "outputs": [
    {
     "data": {
      "text/plain": [
       "False"
      ]
     },
     "execution_count": 175,
     "metadata": {},
     "output_type": "execute_result"
    }
   ],
   "source": [
    "is_abecedarian('abode')"
   ]
  },
  {
   "cell_type": "code",
   "execution_count": 178,
   "metadata": {},
   "outputs": [
    {
     "name": "stdout",
     "output_type": "stream",
     "text": [
      "Percentage of words in alphabetical order 0.005245584746507337\n"
     ]
    }
   ],
   "source": [
    "count = 0\n",
    "for word in word_list:\n",
    "    if is_abecedarian(word):\n",
    "        count += 1\n",
    "print('Percentage of words in alphabetical order', count / len(word_list))"
   ]
  },
  {
   "cell_type": "markdown",
   "metadata": {},
   "source": [
    "# Chapter 10\n",
    "[Solutions from author](http://thinkpython2.com/code/list_exercises.py)"
   ]
  },
  {
   "cell_type": "markdown",
   "metadata": {},
   "source": [
    "### Exercise 10.1"
   ]
  },
  {
   "cell_type": "code",
   "execution_count": 181,
   "metadata": {
    "collapsed": true
   },
   "outputs": [],
   "source": [
    "# Write a function called nested_sum that takes a list of lists of integers and \n",
    "# adds up the elements from all of the nested lists.\n",
    "def nested_sum(mylist):\n",
    "    return sum([sum(inner_list) for inner_list in mylist])"
   ]
  },
  {
   "cell_type": "code",
   "execution_count": 182,
   "metadata": {},
   "outputs": [
    {
     "data": {
      "text/plain": [
       "21"
      ]
     },
     "execution_count": 182,
     "metadata": {},
     "output_type": "execute_result"
    }
   ],
   "source": [
    "t = [[1, 2], [3], [4, 5, 6]]\n",
    "nested_sum(t)"
   ]
  },
  {
   "cell_type": "markdown",
   "metadata": {},
   "source": [
    "### Exercise 10.2"
   ]
  },
  {
   "cell_type": "code",
   "execution_count": 183,
   "metadata": {
    "collapsed": true
   },
   "outputs": [],
   "source": [
    "## Write a function called cumsum that takes a list of numbers and returns the \n",
    "# cumulative sum; that is, a new list where the ith element is the sum of the \n",
    "# first i + 1 elements from the original list\n",
    "def cumsum(mylist):\n",
    "    return [sum(mylist[:i+1]) for i, _ in enumerate(mylist)]"
   ]
  },
  {
   "cell_type": "markdown",
   "metadata": {},
   "source": [
    "### Exercise 10.3"
   ]
  },
  {
   "cell_type": "code",
   "execution_count": 185,
   "metadata": {
    "collapsed": true
   },
   "outputs": [],
   "source": [
    "# Write a function called middle that takes a list and returns a new list that \n",
    "# contains all but the first and last elements\n",
    "def middle(mylist):\n",
    "    if len(mylist) > 2:\n",
    "        return mylist[1:-1]\n",
    "    return mylist"
   ]
  },
  {
   "cell_type": "code",
   "execution_count": 186,
   "metadata": {},
   "outputs": [
    {
     "data": {
      "text/plain": [
       "[1, 2]"
      ]
     },
     "execution_count": 186,
     "metadata": {},
     "output_type": "execute_result"
    }
   ],
   "source": [
    "middle([1,2])"
   ]
  },
  {
   "cell_type": "code",
   "execution_count": 187,
   "metadata": {},
   "outputs": [
    {
     "data": {
      "text/plain": [
       "[2]"
      ]
     },
     "execution_count": 187,
     "metadata": {},
     "output_type": "execute_result"
    }
   ],
   "source": [
    "middle([1,2,3])"
   ]
  },
  {
   "cell_type": "code",
   "execution_count": 188,
   "metadata": {},
   "outputs": [
    {
     "data": {
      "text/plain": [
       "[10, 20]"
      ]
     },
     "execution_count": 188,
     "metadata": {},
     "output_type": "execute_result"
    }
   ],
   "source": [
    "middle([4, 10, 20, 40])"
   ]
  },
  {
   "cell_type": "markdown",
   "metadata": {},
   "source": [
    "### Exercise 10.4"
   ]
  },
  {
   "cell_type": "code",
   "execution_count": 197,
   "metadata": {},
   "outputs": [],
   "source": [
    "# Write a function called chop that takes a list, modifies it by removing the first and\n",
    "# last elements, and returns None\n",
    "def chop(mylist):\n",
    "    del mylist[0], mylist[1]"
   ]
  },
  {
   "cell_type": "code",
   "execution_count": 199,
   "metadata": {},
   "outputs": [
    {
     "data": {
      "text/plain": [
       "[2, 4]"
      ]
     },
     "execution_count": 199,
     "metadata": {},
     "output_type": "execute_result"
    }
   ],
   "source": [
    "t = [1, 2, 3, 4]\n",
    "chop(t)\n",
    "t"
   ]
  },
  {
   "cell_type": "markdown",
   "metadata": {},
   "source": [
    "### Exercise 10.5"
   ]
  },
  {
   "cell_type": "code",
   "execution_count": 200,
   "metadata": {
    "collapsed": true
   },
   "outputs": [],
   "source": [
    "# Write a function called is_sorted that takes a list as a parameter and \n",
    "# returns True if the list is sorted in ascending order and False otherwise\n",
    "def is_sorted(mylist):\n",
    "    prev = mylist[0]\n",
    "    for element in mylist:\n",
    "        if prev > element:\n",
    "            return False\n",
    "        prev = element\n",
    "    return True"
   ]
  },
  {
   "cell_type": "code",
   "execution_count": 204,
   "metadata": {},
   "outputs": [
    {
     "data": {
      "text/plain": [
       "False"
      ]
     },
     "execution_count": 204,
     "metadata": {},
     "output_type": "execute_result"
    }
   ],
   "source": [
    "is_sorted([1,2,3,3, 10, 9.9])"
   ]
  },
  {
   "cell_type": "markdown",
   "metadata": {},
   "source": [
    "### Exercise 10.6"
   ]
  },
  {
   "cell_type": "code",
   "execution_count": 205,
   "metadata": {
    "collapsed": true
   },
   "outputs": [],
   "source": [
    "# Two words are anagrams if you can rearrange the letters from one to spell the other. \n",
    "# Write a function called is_anagram that takes two strings and returns True if they are anagrams.\n",
    "def is_anagram(word1, word2):\n",
    "    return sorted(word1) == sorted(word2)"
   ]
  },
  {
   "cell_type": "markdown",
   "metadata": {},
   "source": [
    "### Exercise 10.7"
   ]
  },
  {
   "cell_type": "code",
   "execution_count": 210,
   "metadata": {
    "collapsed": true
   },
   "outputs": [],
   "source": [
    "# Write a function called has_duplicates that takes a list and\n",
    "# returns True if there is any element that appears more than once. It should not modify the original list.\n",
    "def has_duplicates(mylist):\n",
    "    for element in mylist:\n",
    "        if mylist.count(element) > 1:\n",
    "            return True\n",
    "    return False"
   ]
  },
  {
   "cell_type": "markdown",
   "metadata": {},
   "source": [
    "### Exercise 10.8"
   ]
  },
  {
   "cell_type": "code",
   "execution_count": 216,
   "metadata": {
    "collapsed": true
   },
   "outputs": [],
   "source": [
    "# If there are 23 students in your class, what are the chances that two of \n",
    "# you have the same birthday? You can estimate this probability by generating \n",
    "# random samples of 23 birthdays and checking for matches.\n",
    "import random\n",
    "def same_bday(students):\n",
    "    return has_duplicates([random.randint(1, 365) for _ in range(students)])"
   ]
  },
  {
   "cell_type": "code",
   "execution_count": 235,
   "metadata": {},
   "outputs": [
    {
     "data": {
      "text/plain": [
       "False"
      ]
     },
     "execution_count": 235,
     "metadata": {},
     "output_type": "execute_result"
    }
   ],
   "source": [
    "same_bday(23)"
   ]
  },
  {
   "cell_type": "markdown",
   "metadata": {},
   "source": [
    "# Chapter 11"
   ]
  },
  {
   "cell_type": "markdown",
   "metadata": {},
   "source": [
    "# Chapter 12\n",
    "# Chapter 13\n",
    "# Chapter 14\n",
    "# Chapter 15\n",
    "# Chapter 16\n",
    "# Chapter 17\n",
    "# Chapter 18\n",
    "# Chapter 19"
   ]
  },
  {
   "cell_type": "code",
   "execution_count": null,
   "metadata": {
    "collapsed": true
   },
   "outputs": [],
   "source": []
  }
 ],
 "metadata": {
  "kernelspec": {
   "display_name": "Python [conda env:py36]",
   "language": "python",
   "name": "conda-env-py36-py"
  },
  "language_info": {
   "codemirror_mode": {
    "name": "ipython",
    "version": 3
   },
   "file_extension": ".py",
   "mimetype": "text/x-python",
   "name": "python",
   "nbconvert_exporter": "python",
   "pygments_lexer": "ipython3",
   "version": "3.6.1"
  }
 },
 "nbformat": 4,
 "nbformat_minor": 2
}
